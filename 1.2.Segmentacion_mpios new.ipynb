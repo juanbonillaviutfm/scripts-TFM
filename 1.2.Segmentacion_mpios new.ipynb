{
 "cells": [
  {
   "cell_type": "code",
   "execution_count": 1,
   "id": "3374b550",
   "metadata": {},
   "outputs": [],
   "source": [
    "# Imports generales\n",
    "import pandas as pd\n",
    "import io\n",
    "import numpy as np\n",
    "import statistics\n",
    "import seaborn as sns\n",
    "import matplotlib.pyplot as plt\n",
    "from sklearn import preprocessing\n",
    "from scipy.cluster.hierarchy import dendrogram, linkage\n",
    "from sklearn.decomposition import PCA\n",
    "from sklearn.preprocessing import StandardScaler\n",
    "from scipy import cluster\n",
    "import sklearn.metrics\n",
    "from sklearn.cluster import DBSCAN\n",
    "from sklearn.neighbors import kneighbors_graph\n",
    "from sklearn.mixture import GaussianMixture\n",
    "from sklearn.metrics import silhouette_score\n",
    "from sklearn.metrics import calinski_harabasz_score\n",
    "\n",
    "from sklearn.metrics import davies_bouldin_score\n",
    "\n"
   ]
  },
  {
   "cell_type": "code",
   "execution_count": 2,
   "id": "004ffe56",
   "metadata": {},
   "outputs": [],
   "source": [
    "path = 'D:/Usuario/Documentos/000.Trabajo_Fin_Master/Bases_datos/'"
   ]
  },
  {
   "cell_type": "code",
   "execution_count": 3,
   "id": "ca402628",
   "metadata": {},
   "outputs": [
    {
     "data": {
      "application/vnd.microsoft.datawrangler.viewer.v0+json": {
       "columns": [
        {
         "name": "index",
         "rawType": "int64",
         "type": "integer"
        },
        {
         "name": "MPIO",
         "rawType": "int64",
         "type": "integer"
        },
        {
         "name": "Municipio",
         "rawType": "object",
         "type": "string"
        },
        {
         "name": "Tipología_2025",
         "rawType": "object",
         "type": "unknown"
        },
        {
         "name": "Ciudad_capital",
         "rawType": "int64",
         "type": "integer"
        },
        {
         "name": "CAT_ruralidad 2023",
         "rawType": "object",
         "type": "string"
        }
       ],
       "ref": "2daaaa3e-35e5-4fa5-9fe4-1c352465a63a",
       "rows": [
        [
         "0",
         "5360",
         "ITAGÜÍ",
         "1",
         "0",
         "Ciudades y aglomeraciones"
        ],
        [
         "1",
         "5001",
         "MEDELLÍN",
         "Ciudades grandes",
         "1",
         "Ciudades y aglomeraciones"
        ],
        [
         "2",
         "8758",
         "SOLEDAD",
         "1",
         "0",
         "Ciudades y aglomeraciones"
        ],
        [
         "3",
         "8001",
         "BARRANQUILLA",
         "Ciudades grandes",
         "1",
         "Ciudades y aglomeraciones"
        ],
        [
         "4",
         "5631",
         "SABANETA",
         "1",
         "0",
         "Ciudades y aglomeraciones"
        ],
        [
         "5",
         "5088",
         "BELLO",
         "1",
         "0",
         "Ciudades y aglomeraciones"
        ],
        [
         "6",
         "5266",
         "ENVIGADO",
         "1",
         "0",
         "Ciudades y aglomeraciones"
        ],
        [
         "7",
         "11001",
         "BOGOTÁ. D.C.",
         "Bogotá",
         "1",
         "Ciudades y aglomeraciones"
        ],
        [
         "8",
         "76001",
         "CALI",
         "Ciudades grandes",
         "1",
         "Ciudades y aglomeraciones"
        ],
        [
         "9",
         "25754",
         "SOACHA",
         "1",
         "0",
         "Ciudades y aglomeraciones"
        ],
        [
         "10",
         "68001",
         "BUCARAMANGA",
         "Ciudades grandes",
         "1",
         "Ciudades y aglomeraciones"
        ],
        [
         "11",
         "66170",
         "DOSQUEBRADAS",
         "1",
         "0",
         "Ciudades y aglomeraciones"
        ],
        [
         "12",
         "68276",
         "FLORIDABLANCA",
         "1",
         "0",
         "Ciudades y aglomeraciones"
        ],
        [
         "13",
         "5380",
         "LA ESTRELLA",
         "1",
         "0",
         "Ciudades y aglomeraciones"
        ],
        [
         "14",
         "63001",
         "ARMENIA",
         "SC- Centro aglomeración\n",
         "1",
         "Ciudades y aglomeraciones"
        ],
        [
         "15",
         "5212",
         "COPACABANA",
         "1",
         "0",
         "Ciudades y aglomeraciones"
        ],
        [
         "16",
         "13001",
         "CARTAGENA",
         "Ciudades grandes",
         "1",
         "Ciudades y aglomeraciones"
        ],
        [
         "17",
         "25175",
         "CHÍA",
         "1",
         "0",
         "Ciudades y aglomeraciones"
        ],
        [
         "18",
         "8433",
         "MALAMBO",
         "2",
         "0",
         "Ciudades y aglomeraciones"
        ],
        [
         "19",
         "25126",
         "CAJICÁ",
         "1",
         "0",
         "Ciudades y aglomeraciones"
        ],
        [
         "20",
         "25286",
         "FUNZA",
         "1",
         "0",
         "Ciudades y aglomeraciones"
        ],
        [
         "21",
         "25473",
         "MOSQUERA",
         "1",
         "0",
         "Ciudades y aglomeraciones"
        ],
        [
         "22",
         "70001",
         "SINCELEJO",
         "2",
         "1",
         "Ciudades y aglomeraciones"
        ],
        [
         "23",
         "15001",
         "TUNJA",
         "SC- Centro aglomeración\n",
         "1",
         "Ciudades y aglomeraciones"
        ],
        [
         "24",
         "25430",
         "MADRID",
         "1",
         "0",
         "Ciudades y aglomeraciones"
        ],
        [
         "25",
         "5615",
         "RIONEGRO",
         "SC- Centro aglomeración\n",
         "0",
         "Ciudades y aglomeraciones"
        ],
        [
         "26",
         "17001",
         "MANIZALES",
         "SC- Centro aglomeración\n",
         "1",
         "Ciudades y aglomeraciones"
        ],
        [
         "27",
         "8634",
         "SABANAGRANDE",
         "1",
         "0",
         "Ciudades y aglomeraciones"
        ],
        [
         "28",
         "25269",
         "FACATATIVÁ",
         "1",
         "0",
         "Ciudades y aglomeraciones"
        ],
        [
         "29",
         "66001",
         "PEREIRA",
         "SC- Centro aglomeración\n",
         "1",
         "Ciudades y aglomeraciones"
        ],
        [
         "30",
         "5129",
         "CALDAS",
         "1",
         "0",
         "Ciudades y aglomeraciones"
        ],
        [
         "31",
         "54874",
         "VILLA DEL ROSARIO",
         "1",
         "0",
         "Ciudades y aglomeraciones"
        ],
        [
         "32",
         "66400",
         "LA VIRGINIA",
         "1",
         "0",
         "Intermedio"
        ],
        [
         "33",
         "5308",
         "GIRARDOTA",
         "1",
         "0",
         "Ciudades y aglomeraciones"
        ],
        [
         "34",
         "25307",
         "GIRARDOT",
         "SC- Centro aglomeración\n",
         "0",
         "Ciudades y aglomeraciones"
        ],
        [
         "35",
         "8573",
         "PUERTO COLOMBIA",
         "1",
         "0",
         "Ciudades y aglomeraciones"
        ],
        [
         "36",
         "25290",
         "FUSAGASUGÁ",
         "1",
         "0",
         "Ciudades y aglomeraciones"
        ],
        [
         "37",
         "8296",
         "GALAPA",
         "1",
         "0",
         "Ciudades y aglomeraciones"
        ],
        [
         "38",
         "5440",
         "MARINILLA",
         "1",
         "0",
         "Intermedio"
        ],
        [
         "39",
         "25899",
         "ZIPAQUIRÁ",
         "1",
         "0",
         "Ciudades y aglomeraciones"
        ],
        [
         "40",
         "76147",
         "CARTAGO",
         "1",
         "0",
         "Ciudades y aglomeraciones"
        ],
        [
         "41",
         "5376",
         "LA CEJA",
         "1",
         "0",
         "Intermedio"
        ],
        [
         "42",
         "25214",
         "COTA",
         "1",
         "0",
         "Ciudades y aglomeraciones"
        ],
        [
         "43",
         "8078",
         "BARANOA",
         "1",
         "0",
         "Ciudades y aglomeraciones"
        ],
        [
         "44",
         "13836",
         "TURBACO",
         "1",
         "0",
         "Ciudades y aglomeraciones"
        ],
        [
         "45",
         "8685",
         "SANTO TOMÁS",
         "1",
         "0",
         "Ciudades y aglomeraciones"
        ],
        [
         "46",
         "54405",
         "LOS PATIOS",
         "1",
         "0",
         "Ciudades y aglomeraciones"
        ],
        [
         "47",
         "76892",
         "YUMBO",
         "1",
         "0",
         "Ciudades y aglomeraciones"
        ],
        [
         "48",
         "25817",
         "TOCANCIPÁ",
         "1",
         "0",
         "Ciudades y aglomeraciones"
        ],
        [
         "49",
         "5318",
         "GUARNE",
         "1",
         "0",
         "Intermedio"
        ]
       ],
       "shape": {
        "columns": 5,
        "rows": 1102
       }
      },
      "text/html": [
       "<div>\n",
       "<style scoped>\n",
       "    .dataframe tbody tr th:only-of-type {\n",
       "        vertical-align: middle;\n",
       "    }\n",
       "\n",
       "    .dataframe tbody tr th {\n",
       "        vertical-align: top;\n",
       "    }\n",
       "\n",
       "    .dataframe thead th {\n",
       "        text-align: right;\n",
       "    }\n",
       "</style>\n",
       "<table border=\"1\" class=\"dataframe\">\n",
       "  <thead>\n",
       "    <tr style=\"text-align: right;\">\n",
       "      <th></th>\n",
       "      <th>MPIO</th>\n",
       "      <th>Municipio</th>\n",
       "      <th>Tipología_2025</th>\n",
       "      <th>Ciudad_capital</th>\n",
       "      <th>CAT_ruralidad 2023</th>\n",
       "    </tr>\n",
       "  </thead>\n",
       "  <tbody>\n",
       "    <tr>\n",
       "      <th>0</th>\n",
       "      <td>5360</td>\n",
       "      <td>ITAGÜÍ</td>\n",
       "      <td>1</td>\n",
       "      <td>0</td>\n",
       "      <td>Ciudades y aglomeraciones</td>\n",
       "    </tr>\n",
       "    <tr>\n",
       "      <th>1</th>\n",
       "      <td>5001</td>\n",
       "      <td>MEDELLÍN</td>\n",
       "      <td>Ciudades grandes</td>\n",
       "      <td>1</td>\n",
       "      <td>Ciudades y aglomeraciones</td>\n",
       "    </tr>\n",
       "    <tr>\n",
       "      <th>2</th>\n",
       "      <td>8758</td>\n",
       "      <td>SOLEDAD</td>\n",
       "      <td>1</td>\n",
       "      <td>0</td>\n",
       "      <td>Ciudades y aglomeraciones</td>\n",
       "    </tr>\n",
       "    <tr>\n",
       "      <th>3</th>\n",
       "      <td>8001</td>\n",
       "      <td>BARRANQUILLA</td>\n",
       "      <td>Ciudades grandes</td>\n",
       "      <td>1</td>\n",
       "      <td>Ciudades y aglomeraciones</td>\n",
       "    </tr>\n",
       "    <tr>\n",
       "      <th>4</th>\n",
       "      <td>5631</td>\n",
       "      <td>SABANETA</td>\n",
       "      <td>1</td>\n",
       "      <td>0</td>\n",
       "      <td>Ciudades y aglomeraciones</td>\n",
       "    </tr>\n",
       "    <tr>\n",
       "      <th>...</th>\n",
       "      <td>...</td>\n",
       "      <td>...</td>\n",
       "      <td>...</td>\n",
       "      <td>...</td>\n",
       "      <td>...</td>\n",
       "    </tr>\n",
       "    <tr>\n",
       "      <th>1097</th>\n",
       "      <td>18756</td>\n",
       "      <td>SOLANO</td>\n",
       "      <td>5</td>\n",
       "      <td>0</td>\n",
       "      <td>Rural disperso</td>\n",
       "    </tr>\n",
       "    <tr>\n",
       "      <th>1098</th>\n",
       "      <td>88564</td>\n",
       "      <td>PROVIDENCIA</td>\n",
       "      <td>4</td>\n",
       "      <td>0</td>\n",
       "      <td>Intermedio</td>\n",
       "    </tr>\n",
       "    <tr>\n",
       "      <th>1099</th>\n",
       "      <td>91001</td>\n",
       "      <td>LETICIA</td>\n",
       "      <td>5</td>\n",
       "      <td>1</td>\n",
       "      <td>Rural</td>\n",
       "    </tr>\n",
       "    <tr>\n",
       "      <th>1100</th>\n",
       "      <td>91540</td>\n",
       "      <td>PUERTO NARIÑO</td>\n",
       "      <td>5</td>\n",
       "      <td>0</td>\n",
       "      <td>Rural disperso</td>\n",
       "    </tr>\n",
       "    <tr>\n",
       "      <th>1101</th>\n",
       "      <td>94001</td>\n",
       "      <td>INÍRIDA</td>\n",
       "      <td>5</td>\n",
       "      <td>1</td>\n",
       "      <td>Rural disperso</td>\n",
       "    </tr>\n",
       "  </tbody>\n",
       "</table>\n",
       "<p>1102 rows × 5 columns</p>\n",
       "</div>"
      ],
      "text/plain": [
       "       MPIO      Municipio    Tipología_2025  Ciudad_capital  \\\n",
       "0      5360         ITAGÜÍ                 1               0   \n",
       "1      5001       MEDELLÍN  Ciudades grandes               1   \n",
       "2      8758        SOLEDAD                 1               0   \n",
       "3      8001   BARRANQUILLA  Ciudades grandes               1   \n",
       "4      5631       SABANETA                 1               0   \n",
       "...     ...            ...               ...             ...   \n",
       "1097  18756         SOLANO                 5               0   \n",
       "1098  88564    PROVIDENCIA                 4               0   \n",
       "1099  91001        LETICIA                 5               1   \n",
       "1100  91540  PUERTO NARIÑO                 5               0   \n",
       "1101  94001        INÍRIDA                 5               1   \n",
       "\n",
       "             CAT_ruralidad 2023  \n",
       "0     Ciudades y aglomeraciones  \n",
       "1     Ciudades y aglomeraciones  \n",
       "2     Ciudades y aglomeraciones  \n",
       "3     Ciudades y aglomeraciones  \n",
       "4     Ciudades y aglomeraciones  \n",
       "...                         ...  \n",
       "1097             Rural disperso  \n",
       "1098                 Intermedio  \n",
       "1099                      Rural  \n",
       "1100             Rural disperso  \n",
       "1101             Rural disperso  \n",
       "\n",
       "[1102 rows x 5 columns]"
      ]
     },
     "execution_count": 3,
     "metadata": {},
     "output_type": "execute_result"
    }
   ],
   "source": [
    "base = pd.read_excel(path + 'Base_ppal.xlsx')\n",
    "mpios = pd.read_excel( path + 'DNP mpios2025 base mpios.xlsx', sheet_name = 'Municipios')\n",
    "mpios"
   ]
  },
  {
   "cell_type": "code",
   "execution_count": 4,
   "id": "8ae3c1de",
   "metadata": {},
   "outputs": [],
   "source": [
    "base = base.merge(mpios, on = 'MPIO', how = 'left')"
   ]
  },
  {
   "cell_type": "code",
   "execution_count": 5,
   "id": "696fa308",
   "metadata": {},
   "outputs": [],
   "source": [
    "base['MUNICIPIO_ANIO'] = base['MPIO'].astype(str) + '_' + base['ANIO_DES'].astype(str)"
   ]
  },
  {
   "cell_type": "markdown",
   "id": "6b313a83",
   "metadata": {},
   "source": [
    "## Definicion función de métricas"
   ]
  },
  {
   "cell_type": "code",
   "execution_count": 6,
   "id": "a2693750",
   "metadata": {},
   "outputs": [],
   "source": [
    "def md_search(modelo,predecir, tipo_modelo):\n",
    "    \n",
    "    # cluster the data into five clusters\n",
    "    model = modelo\n",
    "    clusters = model.fit_predict(predecir)\n",
    "\n",
    "\n",
    "    sil_score = silhouette_score(predecir, clusters)\n",
    "    print(\"Silhouette Score:\", sil_score)\n",
    "\n",
    "\n",
    "    ch_score = calinski_harabasz_score(predecir, clusters)\n",
    "    print(\"Calinski-Harabasz Index:\", ch_score)\n",
    "\n",
    "\n",
    "    db_score = davies_bouldin_score(predecir, clusters)\n",
    "    print(\"Davies-Bouldin Index:\", db_score)\n",
    "\n",
    "\n",
    "    metricas = pd.DataFrame({\n",
    "        'Silhouette': [sil_score],\n",
    "        'Calinski-Harabasz': [ch_score],\n",
    "        'Davies-Bouldin': [db_score]\n",
    "    })\n",
    "\n",
    "    metricas.set_index([[tipo_modelo]])\n",
    "    return metricas"
   ]
  },
  {
   "cell_type": "code",
   "execution_count": 7,
   "id": "f28ef383",
   "metadata": {},
   "outputs": [],
   "source": [
    "mpios_des = base.groupby(['MUNICIPIO_ANIO', 'CLASIFICACION', 'CAT_ruralidad 2023', 'Tipología_2025', 'Ciudad_capital'])['EDAD_QUINQ'].count().reset_index()"
   ]
  },
  {
   "cell_type": "code",
   "execution_count": 8,
   "id": "e6f87f7d",
   "metadata": {},
   "outputs": [],
   "source": [
    "df_pivot = mpios_des.pivot_table(\n",
    "    index=['MUNICIPIO_ANIO', 'CAT_ruralidad 2023', 'Tipología_2025', 'Ciudad_capital'],\n",
    "    columns='CLASIFICACION',\n",
    "    values='EDAD_QUINQ',\n",
    "    fill_value=0  # Opcional: para poner 0 si no hay datos\n",
    ").reset_index()\n"
   ]
  },
  {
   "cell_type": "code",
   "execution_count": 9,
   "id": "b497f282",
   "metadata": {},
   "outputs": [],
   "source": [
    "nombres = ['MUNICIPIO_ANIO', 'CAT_ruralidad 2023', 'Tipologia_2025',\n",
    "       'Ciudad_capital', 'Des_Forzada',\n",
    "       'Sin_Info']\n",
    "\n",
    "df_pivot.columns = nombres\n",
    "\n",
    "df_pivot['Tipologia_2025'] = df_pivot['Tipologia_2025'].astype(str) "
   ]
  },
  {
   "cell_type": "code",
   "execution_count": 10,
   "id": "c1a2b5ce",
   "metadata": {},
   "outputs": [
    {
     "name": "stdout",
     "output_type": "stream",
     "text": [
      "['Ciudades y aglomeraciones' 'Rural disperso' 'Rural' 'Intermedio']\n",
      "['Bogotá' 'Ciudades grandes' '5' '2' '4' '3' '1'\n",
      " 'SC- Centro aglomeración\\n']\n"
     ]
    }
   ],
   "source": [
    "print(df_pivot['CAT_ruralidad 2023'].unique())\n",
    "print(df_pivot['Tipologia_2025'].unique())"
   ]
  },
  {
   "cell_type": "code",
   "execution_count": 12,
   "id": "16526625",
   "metadata": {},
   "outputs": [
    {
     "data": {
      "text/plain": [
       "4"
      ]
     },
     "execution_count": 12,
     "metadata": {},
     "output_type": "execute_result"
    }
   ],
   "source": [
    "df_pivot[\"CAT_ruralidad 2023\"].nunique()"
   ]
  },
  {
   "cell_type": "markdown",
   "id": "f37c40fd",
   "metadata": {},
   "source": [
    "## K Means\n",
    "\n",
    "Convertiré todas las variables a numéricas a ver si obtengo mejores resultados.\n",
    "\n",
    "No es lo correcto, pero de cierta manera las cualitativas guardan una ordinalidad, por ende, La interpretación en K medias podría ser acertada."
   ]
  },
  {
   "cell_type": "code",
   "execution_count": 11,
   "id": "31efd007",
   "metadata": {},
   "outputs": [
    {
     "name": "stderr",
     "output_type": "stream",
     "text": [
      "C:\\Users\\juan.bonilla\\AppData\\Local\\Temp\\ipykernel_16000\\2647900310.py:9: FutureWarning: Downcasting behavior in `replace` is deprecated and will be removed in a future version. To retain the old behavior, explicitly call `result.infer_objects(copy=False)`. To opt-in to the future behavior, set `pd.set_option('future.no_silent_downcasting', True)`\n",
      "  df_pivot['CAT_ruralidad 2023'] = df_pivot['CAT_ruralidad 2023'].replace(reemplazos)\n",
      "C:\\Users\\juan.bonilla\\AppData\\Local\\Temp\\ipykernel_16000\\2647900310.py:22: FutureWarning: Downcasting behavior in `replace` is deprecated and will be removed in a future version. To retain the old behavior, explicitly call `result.infer_objects(copy=False)`. To opt-in to the future behavior, set `pd.set_option('future.no_silent_downcasting', True)`\n",
      "  df_pivot['Tipologia_2025'] = df_pivot['Tipologia_2025'].replace(reemplazos)\n"
     ]
    }
   ],
   "source": [
    "['Ciudades y aglomeraciones' 'Rural disperso' 'Rural' 'Intermedio']\n",
    "\n",
    "reemplazos = { \n",
    "              'Ciudades y aglomeraciones': 4,\n",
    "              'Intermedio': 3,\n",
    "              'Rural disperso': 2,\n",
    "              'Rural': 1,}\n",
    "\n",
    "df_pivot['CAT_ruralidad 2023'] = df_pivot['CAT_ruralidad 2023'].replace(reemplazos)\n",
    "\n",
    "\n",
    "reemplazos = { \n",
    "              'Bogotá': 8,\n",
    "              'Ciudades grandes': 7,\n",
    "              'SC- Centro aglomeración\\n': 6,\n",
    "              '5': 5,\n",
    "              '4': 4,\n",
    "              '3': 3,\n",
    "              '2': 2,\n",
    "              '1': 1}\n",
    "\n",
    "df_pivot['Tipologia_2025'] = df_pivot['Tipologia_2025'].replace(reemplazos)\n",
    "\n"
   ]
  },
  {
   "cell_type": "code",
   "execution_count": 12,
   "id": "bbb97440",
   "metadata": {},
   "outputs": [],
   "source": [
    "df_pivot_ciud_ppal = df_pivot[df_pivot['Tipologia_2025'] >= 7]\n",
    "df_pivot_resto = df_pivot[df_pivot['Tipologia_2025'] < 7]"
   ]
  },
  {
   "cell_type": "code",
   "execution_count": 13,
   "id": "07619977",
   "metadata": {},
   "outputs": [
    {
     "data": {
      "image/png": "[encoded data removed]",
      "text/plain": [
       "<Figure size 640x480 with 1 Axes>"
      ]
     },
     "metadata": {},
     "output_type": "display_data"
    }
   ],
   "source": [
    "from sklearn.cluster import KMeans\n",
    "\n",
    "train_kmeans = df_pivot_resto.drop(columns='cluster', errors='ignore')  # elimina la columna si existe\n",
    "train_kmeans = train_kmeans.set_index('MUNICIPIO_ANIO')\n",
    "\n",
    "#initialize kmeans parameters\n",
    "kmeans_kwargs = {\n",
    "\"init\": \"random\",\n",
    "\"n_init\": 10,\n",
    "\"random_state\": 1,\n",
    "}\n",
    "\n",
    "#create list to hold SSE values for each k\n",
    "sse = []\n",
    "for k in range(1, 11):\n",
    "    kmeans = KMeans(n_clusters=k, **kmeans_kwargs)\n",
    "    kmeans.fit(train_kmeans)\n",
    "    sse.append(kmeans.inertia_)\n",
    "\n",
    "#visualize results\n",
    "plt.plot(range(1, 11), sse)\n",
    "plt.xticks(range(1, 11))\n",
    "plt.xlabel(\"Number of Clusters\")\n",
    "plt.ylabel(\"SSE\")\n",
    "plt.show()"
   ]
  },
  {
   "cell_type": "code",
   "execution_count": 14,
   "id": "8b054956",
   "metadata": {},
   "outputs": [
    {
     "data": {
      "text/plain": [
       "array([3, 3, 3, ..., 3, 3, 3], shape=(19429,), dtype=int32)"
      ]
     },
     "execution_count": 14,
     "metadata": {},
     "output_type": "execute_result"
    }
   ],
   "source": [
    "#instantiate the k-means class, using optimal number of clusters\n",
    "kmeans = KMeans(init=\"random\", n_clusters=6, n_init=10, random_state=1)\n",
    "\n",
    "#fit k-means algorithm to data\n",
    "kmeans.fit(train_kmeans)\n",
    "\n",
    "#view cluster assignments for each observation\n",
    "kmeans.labels_"
   ]
  },
  {
   "cell_type": "code",
   "execution_count": 15,
   "id": "ecf6492e",
   "metadata": {},
   "outputs": [
    {
     "name": "stdout",
     "output_type": "stream",
     "text": [
      "Silhouette Score: 0.7496581348251662\n",
      "Calinski-Harabasz Index: 23610.11673864453\n",
      "Davies-Bouldin Index: 0.6475304536139747\n"
     ]
    }
   ],
   "source": [
    "metricas_kmeans = md_search(kmeans,train_kmeans,\"K-medias\")"
   ]
  },
  {
   "cell_type": "markdown",
   "id": "0336f1c9",
   "metadata": {},
   "source": [
    "## Análisis de componentes principales\n",
    "\n",
    "Para K medias"
   ]
  },
  {
   "cell_type": "code",
   "execution_count": 21,
   "id": "336e6583",
   "metadata": {},
   "outputs": [],
   "source": [
    "df_pivot['Ciudad_capital'] = df_pivot['Ciudad_capital'].astype(str)\n",
    "df_pivot['CAT_ruralidad 2023'] = df_pivot['CAT_ruralidad 2023'].astype(str)\n",
    "df_pivot['Tipologia_2025'] = df_pivot['Tipologia_2025'].astype(str)\n",
    "\n",
    "df_pivot.set_index('MUNICIPIO_ANIO',inplace=True)"
   ]
  },
  {
   "cell_type": "code",
   "execution_count": 13,
   "id": "7701ff3a",
   "metadata": {},
   "outputs": [
    {
     "data": {
      "application/vnd.microsoft.datawrangler.viewer.v0+json": {
       "columns": [
        {
         "name": "index",
         "rawType": "int64",
         "type": "integer"
        },
        {
         "name": "MUNICIPIO_ANIO",
         "rawType": "object",
         "type": "string"
        },
        {
         "name": "CAT_ruralidad 2023",
         "rawType": "object",
         "type": "string"
        },
        {
         "name": "Tipologia_2025",
         "rawType": "object",
         "type": "string"
        },
        {
         "name": "Ciudad_capital",
         "rawType": "float64",
         "type": "float"
        },
        {
         "name": "Des_Forzada",
         "rawType": "float64",
         "type": "float"
        },
        {
         "name": "Sin_Info",
         "rawType": "float64",
         "type": "float"
        }
       ],
       "ref": "c26f683d-d5b8-4fe3-9cde-066aa212fbf9",
       "rows": [
        [
         "0",
         "11001_1948",
         "Ciudades y aglomeraciones",
         "Bogotá",
         "1.0",
         "0.0",
         "1.0"
        ],
        [
         "1",
         "11001_1949",
         "Ciudades y aglomeraciones",
         "Bogotá",
         "1.0",
         "0.0",
         "1.0"
        ],
        [
         "2",
         "11001_1951",
         "Ciudades y aglomeraciones",
         "Bogotá",
         "1.0",
         "0.0",
         "1.0"
        ],
        [
         "3",
         "11001_1954",
         "Ciudades y aglomeraciones",
         "Bogotá",
         "1.0",
         "0.0",
         "1.0"
        ],
        [
         "4",
         "11001_1955",
         "Ciudades y aglomeraciones",
         "Bogotá",
         "1.0",
         "1.0",
         "1.0"
        ],
        [
         "5",
         "11001_1960",
         "Ciudades y aglomeraciones",
         "Bogotá",
         "1.0",
         "1.0",
         "2.0"
        ],
        [
         "6",
         "11001_1961",
         "Ciudades y aglomeraciones",
         "Bogotá",
         "1.0",
         "0.0",
         "1.0"
        ],
        [
         "7",
         "11001_1962",
         "Ciudades y aglomeraciones",
         "Bogotá",
         "1.0",
         "0.0",
         "2.0"
        ],
        [
         "8",
         "11001_1963",
         "Ciudades y aglomeraciones",
         "Bogotá",
         "1.0",
         "0.0",
         "3.0"
        ],
        [
         "9",
         "11001_1964",
         "Ciudades y aglomeraciones",
         "Bogotá",
         "1.0",
         "0.0",
         "2.0"
        ],
        [
         "10",
         "11001_1966",
         "Ciudades y aglomeraciones",
         "Bogotá",
         "1.0",
         "0.0",
         "2.0"
        ],
        [
         "11",
         "11001_1967",
         "Ciudades y aglomeraciones",
         "Bogotá",
         "1.0",
         "0.0",
         "1.0"
        ],
        [
         "12",
         "11001_1968",
         "Ciudades y aglomeraciones",
         "Bogotá",
         "1.0",
         "0.0",
         "4.0"
        ],
        [
         "13",
         "11001_1969",
         "Ciudades y aglomeraciones",
         "Bogotá",
         "1.0",
         "0.0",
         "4.0"
        ],
        [
         "14",
         "11001_1970",
         "Ciudades y aglomeraciones",
         "Bogotá",
         "1.0",
         "0.0",
         "5.0"
        ],
        [
         "15",
         "11001_1971",
         "Ciudades y aglomeraciones",
         "Bogotá",
         "1.0",
         "0.0",
         "1.0"
        ],
        [
         "16",
         "11001_1972",
         "Ciudades y aglomeraciones",
         "Bogotá",
         "1.0",
         "1.0",
         "9.0"
        ],
        [
         "17",
         "11001_1973",
         "Ciudades y aglomeraciones",
         "Bogotá",
         "1.0",
         "0.0",
         "5.0"
        ],
        [
         "18",
         "11001_1974",
         "Ciudades y aglomeraciones",
         "Bogotá",
         "1.0",
         "0.0",
         "9.0"
        ],
        [
         "19",
         "11001_1975",
         "Ciudades y aglomeraciones",
         "Bogotá",
         "1.0",
         "0.0",
         "11.0"
        ],
        [
         "20",
         "11001_1976",
         "Ciudades y aglomeraciones",
         "Bogotá",
         "1.0",
         "1.0",
         "6.0"
        ],
        [
         "21",
         "11001_1977",
         "Ciudades y aglomeraciones",
         "Bogotá",
         "1.0",
         "0.0",
         "9.0"
        ],
        [
         "22",
         "11001_1978",
         "Ciudades y aglomeraciones",
         "Bogotá",
         "1.0",
         "3.0",
         "10.0"
        ],
        [
         "23",
         "11001_1979",
         "Ciudades y aglomeraciones",
         "Bogotá",
         "1.0",
         "5.0",
         "8.0"
        ],
        [
         "24",
         "11001_1980",
         "Ciudades y aglomeraciones",
         "Bogotá",
         "1.0",
         "2.0",
         "12.0"
        ],
        [
         "25",
         "11001_1981",
         "Ciudades y aglomeraciones",
         "Bogotá",
         "1.0",
         "0.0",
         "11.0"
        ],
        [
         "26",
         "11001_1982",
         "Ciudades y aglomeraciones",
         "Bogotá",
         "1.0",
         "23.0",
         "17.0"
        ],
        [
         "27",
         "11001_1983",
         "Ciudades y aglomeraciones",
         "Bogotá",
         "1.0",
         "2.0",
         "15.0"
        ],
        [
         "28",
         "11001_1984",
         "Ciudades y aglomeraciones",
         "Bogotá",
         "1.0",
         "4.0",
         "17.0"
        ],
        [
         "29",
         "11001_1985",
         "Ciudades y aglomeraciones",
         "Bogotá",
         "1.0",
         "37.0",
         "48.0"
        ],
        [
         "30",
         "11001_1986",
         "Ciudades y aglomeraciones",
         "Bogotá",
         "1.0",
         "16.0",
         "21.0"
        ],
        [
         "31",
         "11001_1987",
         "Ciudades y aglomeraciones",
         "Bogotá",
         "1.0",
         "12.0",
         "17.0"
        ],
        [
         "32",
         "11001_1988",
         "Ciudades y aglomeraciones",
         "Bogotá",
         "1.0",
         "22.0",
         "30.0"
        ],
        [
         "33",
         "11001_1989",
         "Ciudades y aglomeraciones",
         "Bogotá",
         "1.0",
         "19.0",
         "27.0"
        ],
        [
         "34",
         "11001_1990",
         "Ciudades y aglomeraciones",
         "Bogotá",
         "1.0",
         "24.0",
         "45.0"
        ],
        [
         "35",
         "11001_1991",
         "Ciudades y aglomeraciones",
         "Bogotá",
         "1.0",
         "18.0",
         "31.0"
        ],
        [
         "36",
         "11001_1992",
         "Ciudades y aglomeraciones",
         "Bogotá",
         "1.0",
         "15.0",
         "39.0"
        ],
        [
         "37",
         "11001_1993",
         "Ciudades y aglomeraciones",
         "Bogotá",
         "1.0",
         "18.0",
         "42.0"
        ],
        [
         "38",
         "11001_1994",
         "Ciudades y aglomeraciones",
         "Bogotá",
         "1.0",
         "17.0",
         "63.0"
        ],
        [
         "39",
         "11001_1995",
         "Ciudades y aglomeraciones",
         "Bogotá",
         "1.0",
         "17.0",
         "75.0"
        ],
        [
         "40",
         "11001_1996",
         "Ciudades y aglomeraciones",
         "Bogotá",
         "1.0",
         "17.0",
         "65.0"
        ],
        [
         "41",
         "11001_1997",
         "Ciudades y aglomeraciones",
         "Bogotá",
         "1.0",
         "27.0",
         "53.0"
        ],
        [
         "42",
         "11001_1998",
         "Ciudades y aglomeraciones",
         "Bogotá",
         "1.0",
         "30.0",
         "58.0"
        ],
        [
         "43",
         "11001_1999",
         "Ciudades y aglomeraciones",
         "Bogotá",
         "1.0",
         "36.0",
         "58.0"
        ],
        [
         "44",
         "11001_2000",
         "Ciudades y aglomeraciones",
         "Bogotá",
         "1.0",
         "46.0",
         "106.0"
        ],
        [
         "45",
         "11001_2001",
         "Ciudades y aglomeraciones",
         "Bogotá",
         "1.0",
         "41.0",
         "75.0"
        ],
        [
         "46",
         "11001_2002",
         "Ciudades y aglomeraciones",
         "Bogotá",
         "1.0",
         "71.0",
         "101.0"
        ],
        [
         "47",
         "11001_2003",
         "Ciudades y aglomeraciones",
         "Bogotá",
         "1.0",
         "58.0",
         "130.0"
        ],
        [
         "48",
         "11001_2004",
         "Ciudades y aglomeraciones",
         "Bogotá",
         "1.0",
         "75.0",
         "124.0"
        ],
        [
         "49",
         "11001_2005",
         "Ciudades y aglomeraciones",
         "Bogotá",
         "1.0",
         "61.0",
         "125.0"
        ]
       ],
       "shape": {
        "columns": 6,
        "rows": 19775
       }
      },
      "text/html": [
       "<div>\n",
       "<style scoped>\n",
       "    .dataframe tbody tr th:only-of-type {\n",
       "        vertical-align: middle;\n",
       "    }\n",
       "\n",
       "    .dataframe tbody tr th {\n",
       "        vertical-align: top;\n",
       "    }\n",
       "\n",
       "    .dataframe thead th {\n",
       "        text-align: right;\n",
       "    }\n",
       "</style>\n",
       "<table border=\"1\" class=\"dataframe\">\n",
       "  <thead>\n",
       "    <tr style=\"text-align: right;\">\n",
       "      <th></th>\n",
       "      <th>MUNICIPIO_ANIO</th>\n",
       "      <th>CAT_ruralidad 2023</th>\n",
       "      <th>Tipologia_2025</th>\n",
       "      <th>Ciudad_capital</th>\n",
       "      <th>Des_Forzada</th>\n",
       "      <th>Sin_Info</th>\n",
       "    </tr>\n",
       "  </thead>\n",
       "  <tbody>\n",
       "    <tr>\n",
       "      <th>0</th>\n",
       "      <td>11001_1948</td>\n",
       "      <td>Ciudades y aglomeraciones</td>\n",
       "      <td>Bogotá</td>\n",
       "      <td>1.0</td>\n",
       "      <td>0.0</td>\n",
       "      <td>1.0</td>\n",
       "    </tr>\n",
       "    <tr>\n",
       "      <th>1</th>\n",
       "      <td>11001_1949</td>\n",
       "      <td>Ciudades y aglomeraciones</td>\n",
       "      <td>Bogotá</td>\n",
       "      <td>1.0</td>\n",
       "      <td>0.0</td>\n",
       "      <td>1.0</td>\n",
       "    </tr>\n",
       "    <tr>\n",
       "      <th>2</th>\n",
       "      <td>11001_1951</td>\n",
       "      <td>Ciudades y aglomeraciones</td>\n",
       "      <td>Bogotá</td>\n",
       "      <td>1.0</td>\n",
       "      <td>0.0</td>\n",
       "      <td>1.0</td>\n",
       "    </tr>\n",
       "    <tr>\n",
       "      <th>3</th>\n",
       "      <td>11001_1954</td>\n",
       "      <td>Ciudades y aglomeraciones</td>\n",
       "      <td>Bogotá</td>\n",
       "      <td>1.0</td>\n",
       "      <td>0.0</td>\n",
       "      <td>1.0</td>\n",
       "    </tr>\n",
       "    <tr>\n",
       "      <th>4</th>\n",
       "      <td>11001_1955</td>\n",
       "      <td>Ciudades y aglomeraciones</td>\n",
       "      <td>Bogotá</td>\n",
       "      <td>1.0</td>\n",
       "      <td>1.0</td>\n",
       "      <td>1.0</td>\n",
       "    </tr>\n",
       "    <tr>\n",
       "      <th>...</th>\n",
       "      <td>...</td>\n",
       "      <td>...</td>\n",
       "      <td>...</td>\n",
       "      <td>...</td>\n",
       "      <td>...</td>\n",
       "      <td>...</td>\n",
       "    </tr>\n",
       "    <tr>\n",
       "      <th>19770</th>\n",
       "      <td>99773_2016</td>\n",
       "      <td>Rural disperso</td>\n",
       "      <td>5</td>\n",
       "      <td>0.0</td>\n",
       "      <td>2.0</td>\n",
       "      <td>1.0</td>\n",
       "    </tr>\n",
       "    <tr>\n",
       "      <th>19771</th>\n",
       "      <td>99773_2018</td>\n",
       "      <td>Rural disperso</td>\n",
       "      <td>5</td>\n",
       "      <td>0.0</td>\n",
       "      <td>0.0</td>\n",
       "      <td>2.0</td>\n",
       "    </tr>\n",
       "    <tr>\n",
       "      <th>19772</th>\n",
       "      <td>99773_2021</td>\n",
       "      <td>Rural disperso</td>\n",
       "      <td>5</td>\n",
       "      <td>0.0</td>\n",
       "      <td>1.0</td>\n",
       "      <td>0.0</td>\n",
       "    </tr>\n",
       "    <tr>\n",
       "      <th>19773</th>\n",
       "      <td>99773_2023</td>\n",
       "      <td>Rural disperso</td>\n",
       "      <td>5</td>\n",
       "      <td>0.0</td>\n",
       "      <td>1.0</td>\n",
       "      <td>0.0</td>\n",
       "    </tr>\n",
       "    <tr>\n",
       "      <th>19774</th>\n",
       "      <td>99773_2024</td>\n",
       "      <td>Rural disperso</td>\n",
       "      <td>5</td>\n",
       "      <td>0.0</td>\n",
       "      <td>0.0</td>\n",
       "      <td>1.0</td>\n",
       "    </tr>\n",
       "  </tbody>\n",
       "</table>\n",
       "<p>19775 rows × 6 columns</p>\n",
       "</div>"
      ],
      "text/plain": [
       "      MUNICIPIO_ANIO         CAT_ruralidad 2023 Tipologia_2025  \\\n",
       "0         11001_1948  Ciudades y aglomeraciones         Bogotá   \n",
       "1         11001_1949  Ciudades y aglomeraciones         Bogotá   \n",
       "2         11001_1951  Ciudades y aglomeraciones         Bogotá   \n",
       "3         11001_1954  Ciudades y aglomeraciones         Bogotá   \n",
       "4         11001_1955  Ciudades y aglomeraciones         Bogotá   \n",
       "...              ...                        ...            ...   \n",
       "19770     99773_2016             Rural disperso              5   \n",
       "19771     99773_2018             Rural disperso              5   \n",
       "19772     99773_2021             Rural disperso              5   \n",
       "19773     99773_2023             Rural disperso              5   \n",
       "19774     99773_2024             Rural disperso              5   \n",
       "\n",
       "       Ciudad_capital  Des_Forzada  Sin_Info  \n",
       "0                 1.0          0.0       1.0  \n",
       "1                 1.0          0.0       1.0  \n",
       "2                 1.0          0.0       1.0  \n",
       "3                 1.0          0.0       1.0  \n",
       "4                 1.0          1.0       1.0  \n",
       "...               ...          ...       ...  \n",
       "19770             0.0          2.0       1.0  \n",
       "19771             0.0          0.0       2.0  \n",
       "19772             0.0          1.0       0.0  \n",
       "19773             0.0          1.0       0.0  \n",
       "19774             0.0          0.0       1.0  \n",
       "\n",
       "[19775 rows x 6 columns]"
      ]
     },
     "execution_count": 13,
     "metadata": {},
     "output_type": "execute_result"
    }
   ],
   "source": [
    "df_pivot"
   ]
  },
  {
   "cell_type": "code",
   "execution_count": 14,
   "id": "03eb1eaf",
   "metadata": {},
   "outputs": [
    {
     "ename": "MemoryError",
     "evalue": "Unable to allocate 46.7 GiB for an array with shape (19775, 19790) and data type <U32",
     "output_type": "error",
     "traceback": [
      "\u001b[1;31m---------------------------------------------------------------------------\u001b[0m",
      "\u001b[1;31mMemoryError\u001b[0m                               Traceback (most recent call last)",
      "Cell \u001b[1;32mIn[14], line 5\u001b[0m\n\u001b[0;32m      3\u001b[0m \u001b[38;5;66;03m# Suponiendo que `df` es tu DataFrame original (mixto)\u001b[39;00m\n\u001b[0;32m      4\u001b[0m model \u001b[38;5;241m=\u001b[39m FAMD(n_components\u001b[38;5;241m=\u001b[39m\u001b[38;5;241m5\u001b[39m, random_state\u001b[38;5;241m=\u001b[39m\u001b[38;5;241m42\u001b[39m)\n\u001b[1;32m----> 5\u001b[0m model \u001b[38;5;241m=\u001b[39m \u001b[43mmodel\u001b[49m\u001b[38;5;241;43m.\u001b[39;49m\u001b[43mfit\u001b[49m\u001b[43m(\u001b[49m\u001b[43mdf_pivot\u001b[49m\u001b[43m)\u001b[49m\n\u001b[0;32m      7\u001b[0m \u001b[38;5;66;03m# Obtener componentes principales\u001b[39;00m\n\u001b[0;32m      8\u001b[0m df_famd \u001b[38;5;241m=\u001b[39m model\u001b[38;5;241m.\u001b[39mtransform(df_pivot)\n",
      "File \u001b[1;32mc:\\Users\\juan.bonilla\\AppData\\Local\\Programs\\Python\\Python313\\Lib\\site-packages\\prince\\utils.py:28\u001b[0m, in \u001b[0;36mcheck_is_dataframe_input.<locals>.wrapper\u001b[1;34m(*args, **kwargs)\u001b[0m\n\u001b[0;32m     24\u001b[0m \u001b[38;5;28;01mif\u001b[39;00m \u001b[38;5;129;01mnot\u001b[39;00m \u001b[38;5;28misinstance\u001b[39m(X, pd\u001b[38;5;241m.\u001b[39mDataFrame):\n\u001b[0;32m     25\u001b[0m     \u001b[38;5;28;01mraise\u001b[39;00m \u001b[38;5;167;01mValueError\u001b[39;00m(\n\u001b[0;32m     26\u001b[0m         \u001b[38;5;124mf\u001b[39m\u001b[38;5;124m\"\u001b[39m\u001b[38;5;124mThe X argument must be a pandas DataFrame, but got \u001b[39m\u001b[38;5;132;01m{\u001b[39;00m\u001b[38;5;28mtype\u001b[39m(X)\u001b[38;5;241m.\u001b[39m\u001b[38;5;18m__name__\u001b[39m\u001b[38;5;132;01m}\u001b[39;00m\u001b[38;5;124m\"\u001b[39m\n\u001b[0;32m     27\u001b[0m     )\n\u001b[1;32m---> 28\u001b[0m \u001b[38;5;28;01mreturn\u001b[39;00m \u001b[43mfunc\u001b[49m\u001b[43m(\u001b[49m\u001b[38;5;241;43m*\u001b[39;49m\u001b[43margs\u001b[49m\u001b[43m,\u001b[49m\u001b[43m \u001b[49m\u001b[38;5;241;43m*\u001b[39;49m\u001b[38;5;241;43m*\u001b[39;49m\u001b[43mkwargs\u001b[49m\u001b[43m)\u001b[49m\n",
      "File \u001b[1;32mc:\\Users\\juan.bonilla\\AppData\\Local\\Programs\\Python\\Python313\\Lib\\site-packages\\prince\\famd.py:74\u001b[0m, in \u001b[0;36mFAMD.fit\u001b[1;34m(self, X, y)\u001b[0m\n\u001b[0;32m     71\u001b[0m X_cat_oh_norm \u001b[38;5;241m=\u001b[39m X_cat_oh_norm\u001b[38;5;241m.\u001b[39msparse\u001b[38;5;241m.\u001b[39mto_dense()\n\u001b[0;32m     73\u001b[0m Z \u001b[38;5;241m=\u001b[39m pd\u001b[38;5;241m.\u001b[39mconcat([X_num, X_cat_oh_norm], axis\u001b[38;5;241m=\u001b[39m\u001b[38;5;241m1\u001b[39m)\n\u001b[1;32m---> 74\u001b[0m \u001b[38;5;28;43msuper\u001b[39;49m\u001b[43m(\u001b[49m\u001b[43m)\u001b[49m\u001b[38;5;241;43m.\u001b[39;49m\u001b[43mfit\u001b[49m\u001b[43m(\u001b[49m\u001b[43mZ\u001b[49m\u001b[43m)\u001b[49m\n\u001b[0;32m     76\u001b[0m \u001b[38;5;66;03m# Determine column_coordinates_\u001b[39;00m\n\u001b[0;32m     77\u001b[0m \u001b[38;5;66;03m# This is based on line 184 in FactoMineR's famd.R file\u001b[39;00m\n\u001b[0;32m     78\u001b[0m rc \u001b[38;5;241m=\u001b[39m \u001b[38;5;28mself\u001b[39m\u001b[38;5;241m.\u001b[39mrow_coordinates(X)\n",
      "File \u001b[1;32mc:\\Users\\juan.bonilla\\AppData\\Local\\Programs\\Python\\Python313\\Lib\\site-packages\\prince\\utils.py:28\u001b[0m, in \u001b[0;36mcheck_is_dataframe_input.<locals>.wrapper\u001b[1;34m(*args, **kwargs)\u001b[0m\n\u001b[0;32m     24\u001b[0m \u001b[38;5;28;01mif\u001b[39;00m \u001b[38;5;129;01mnot\u001b[39;00m \u001b[38;5;28misinstance\u001b[39m(X, pd\u001b[38;5;241m.\u001b[39mDataFrame):\n\u001b[0;32m     25\u001b[0m     \u001b[38;5;28;01mraise\u001b[39;00m \u001b[38;5;167;01mValueError\u001b[39;00m(\n\u001b[0;32m     26\u001b[0m         \u001b[38;5;124mf\u001b[39m\u001b[38;5;124m\"\u001b[39m\u001b[38;5;124mThe X argument must be a pandas DataFrame, but got \u001b[39m\u001b[38;5;132;01m{\u001b[39;00m\u001b[38;5;28mtype\u001b[39m(X)\u001b[38;5;241m.\u001b[39m\u001b[38;5;18m__name__\u001b[39m\u001b[38;5;132;01m}\u001b[39;00m\u001b[38;5;124m\"\u001b[39m\n\u001b[0;32m     27\u001b[0m     )\n\u001b[1;32m---> 28\u001b[0m \u001b[38;5;28;01mreturn\u001b[39;00m \u001b[43mfunc\u001b[49m\u001b[43m(\u001b[49m\u001b[38;5;241;43m*\u001b[39;49m\u001b[43margs\u001b[49m\u001b[43m,\u001b[49m\u001b[43m \u001b[49m\u001b[38;5;241;43m*\u001b[39;49m\u001b[38;5;241;43m*\u001b[39;49m\u001b[43mkwargs\u001b[49m\u001b[43m)\u001b[49m\n",
      "File \u001b[1;32mc:\\Users\\juan.bonilla\\AppData\\Local\\Programs\\Python\\Python313\\Lib\\site-packages\\prince\\pca.py:83\u001b[0m, in \u001b[0;36mPCA.fit\u001b[1;34m(self, X, y, sample_weight, column_weight, supplementary_columns)\u001b[0m\n\u001b[0;32m     74\u001b[0m \u001b[38;5;129m@utils\u001b[39m\u001b[38;5;241m.\u001b[39mcheck_is_dataframe_input\n\u001b[0;32m     75\u001b[0m \u001b[38;5;28;01mdef\u001b[39;00m\u001b[38;5;250m \u001b[39m\u001b[38;5;21mfit\u001b[39m(\n\u001b[0;32m     76\u001b[0m     \u001b[38;5;28mself\u001b[39m,\n\u001b[1;32m   (...)\u001b[0m\n\u001b[0;32m     81\u001b[0m     supplementary_columns\u001b[38;5;241m=\u001b[39m\u001b[38;5;28;01mNone\u001b[39;00m,\n\u001b[0;32m     82\u001b[0m ):\n\u001b[1;32m---> 83\u001b[0m     \u001b[38;5;28;43mself\u001b[39;49m\u001b[38;5;241;43m.\u001b[39;49m\u001b[43m_check_input\u001b[49m\u001b[43m(\u001b[49m\u001b[43mX\u001b[49m\u001b[43m)\u001b[49m\n\u001b[0;32m     85\u001b[0m     \u001b[38;5;66;03m# Massage input\u001b[39;00m\n\u001b[0;32m     86\u001b[0m     supplementary_columns \u001b[38;5;241m=\u001b[39m supplementary_columns \u001b[38;5;129;01mor\u001b[39;00m []\n",
      "File \u001b[1;32mc:\\Users\\juan.bonilla\\AppData\\Local\\Programs\\Python\\Python313\\Lib\\site-packages\\prince\\famd.py:38\u001b[0m, in \u001b[0;36mFAMD._check_input\u001b[1;34m(self, X)\u001b[0m\n\u001b[0;32m     36\u001b[0m \u001b[38;5;28;01mdef\u001b[39;00m\u001b[38;5;250m \u001b[39m\u001b[38;5;21m_check_input\u001b[39m(\u001b[38;5;28mself\u001b[39m, X):\n\u001b[0;32m     37\u001b[0m     \u001b[38;5;28;01mif\u001b[39;00m \u001b[38;5;28mself\u001b[39m\u001b[38;5;241m.\u001b[39mcheck_input:\n\u001b[1;32m---> 38\u001b[0m         \u001b[43msklearn\u001b[49m\u001b[38;5;241;43m.\u001b[39;49m\u001b[43mutils\u001b[49m\u001b[38;5;241;43m.\u001b[39;49m\u001b[43mcheck_array\u001b[49m\u001b[43m(\u001b[49m\u001b[43mX\u001b[49m\u001b[43m,\u001b[49m\u001b[43m \u001b[49m\u001b[43mdtype\u001b[49m\u001b[38;5;241;43m=\u001b[39;49m\u001b[43m[\u001b[49m\u001b[38;5;28;43mstr\u001b[39;49m\u001b[43m,\u001b[49m\u001b[43m \u001b[49m\u001b[38;5;124;43m\"\u001b[39;49m\u001b[38;5;124;43mnumeric\u001b[39;49m\u001b[38;5;124;43m\"\u001b[39;49m\u001b[43m]\u001b[49m\u001b[43m)\u001b[49m\n",
      "File \u001b[1;32mc:\\Users\\juan.bonilla\\AppData\\Local\\Programs\\Python\\Python313\\Lib\\site-packages\\sklearn\\utils\\validation.py:1055\u001b[0m, in \u001b[0;36mcheck_array\u001b[1;34m(array, accept_sparse, accept_large_sparse, dtype, order, copy, force_writeable, force_all_finite, ensure_all_finite, ensure_non_negative, ensure_2d, allow_nd, ensure_min_samples, ensure_min_features, estimator, input_name)\u001b[0m\n\u001b[0;32m   1053\u001b[0m         array \u001b[38;5;241m=\u001b[39m xp\u001b[38;5;241m.\u001b[39mastype(array, dtype, copy\u001b[38;5;241m=\u001b[39m\u001b[38;5;28;01mFalse\u001b[39;00m)\n\u001b[0;32m   1054\u001b[0m     \u001b[38;5;28;01melse\u001b[39;00m:\n\u001b[1;32m-> 1055\u001b[0m         array \u001b[38;5;241m=\u001b[39m \u001b[43m_asarray_with_order\u001b[49m\u001b[43m(\u001b[49m\u001b[43marray\u001b[49m\u001b[43m,\u001b[49m\u001b[43m \u001b[49m\u001b[43morder\u001b[49m\u001b[38;5;241;43m=\u001b[39;49m\u001b[43morder\u001b[49m\u001b[43m,\u001b[49m\u001b[43m \u001b[49m\u001b[43mdtype\u001b[49m\u001b[38;5;241;43m=\u001b[39;49m\u001b[43mdtype\u001b[49m\u001b[43m,\u001b[49m\u001b[43m \u001b[49m\u001b[43mxp\u001b[49m\u001b[38;5;241;43m=\u001b[39;49m\u001b[43mxp\u001b[49m\u001b[43m)\u001b[49m\n\u001b[0;32m   1056\u001b[0m \u001b[38;5;28;01mexcept\u001b[39;00m ComplexWarning \u001b[38;5;28;01mas\u001b[39;00m complex_warning:\n\u001b[0;32m   1057\u001b[0m     \u001b[38;5;28;01mraise\u001b[39;00m \u001b[38;5;167;01mValueError\u001b[39;00m(\n\u001b[0;32m   1058\u001b[0m         \u001b[38;5;124m\"\u001b[39m\u001b[38;5;124mComplex data not supported\u001b[39m\u001b[38;5;130;01m\\n\u001b[39;00m\u001b[38;5;132;01m{}\u001b[39;00m\u001b[38;5;130;01m\\n\u001b[39;00m\u001b[38;5;124m\"\u001b[39m\u001b[38;5;241m.\u001b[39mformat(array)\n\u001b[0;32m   1059\u001b[0m     ) \u001b[38;5;28;01mfrom\u001b[39;00m\u001b[38;5;250m \u001b[39m\u001b[38;5;21;01mcomplex_warning\u001b[39;00m\n",
      "File \u001b[1;32mc:\\Users\\juan.bonilla\\AppData\\Local\\Programs\\Python\\Python313\\Lib\\site-packages\\sklearn\\utils\\_array_api.py:839\u001b[0m, in \u001b[0;36m_asarray_with_order\u001b[1;34m(array, dtype, order, copy, xp, device)\u001b[0m\n\u001b[0;32m    837\u001b[0m     array \u001b[38;5;241m=\u001b[39m numpy\u001b[38;5;241m.\u001b[39marray(array, order\u001b[38;5;241m=\u001b[39morder, dtype\u001b[38;5;241m=\u001b[39mdtype)\n\u001b[0;32m    838\u001b[0m \u001b[38;5;28;01melse\u001b[39;00m:\n\u001b[1;32m--> 839\u001b[0m     array \u001b[38;5;241m=\u001b[39m \u001b[43mnumpy\u001b[49m\u001b[38;5;241;43m.\u001b[39;49m\u001b[43masarray\u001b[49m\u001b[43m(\u001b[49m\u001b[43marray\u001b[49m\u001b[43m,\u001b[49m\u001b[43m \u001b[49m\u001b[43morder\u001b[49m\u001b[38;5;241;43m=\u001b[39;49m\u001b[43morder\u001b[49m\u001b[43m,\u001b[49m\u001b[43m \u001b[49m\u001b[43mdtype\u001b[49m\u001b[38;5;241;43m=\u001b[39;49m\u001b[43mdtype\u001b[49m\u001b[43m)\u001b[49m\n\u001b[0;32m    841\u001b[0m \u001b[38;5;66;03m# At this point array is a NumPy ndarray. We convert it to an array\u001b[39;00m\n\u001b[0;32m    842\u001b[0m \u001b[38;5;66;03m# container that is consistent with the input's namespace.\u001b[39;00m\n\u001b[0;32m    843\u001b[0m \u001b[38;5;28;01mreturn\u001b[39;00m xp\u001b[38;5;241m.\u001b[39masarray(array)\n",
      "\u001b[1;31mMemoryError\u001b[0m: Unable to allocate 46.7 GiB for an array with shape (19775, 19790) and data type <U32"
     ]
    }
   ],
   "source": [
    "from prince import FAMD\n",
    "\n",
    "# Suponiendo que `df` es tu DataFrame original (mixto)\n",
    "model = FAMD(n_components=5, random_state=42)\n",
    "model = model.fit(df_pivot)\n",
    "\n",
    "# Obtener componentes principales\n",
    "df_famd = model.transform(df_pivot)\n"
   ]
  },
  {
   "cell_type": "code",
   "execution_count": null,
   "id": "3746bf7f",
   "metadata": {},
   "outputs": [
    {
     "data": {
      "text/plain": [
       "array([17.61720331, 31.11374887, 41.95122734, 51.93064107, 61.01621885])"
      ]
     },
     "execution_count": 42,
     "metadata": {},
     "output_type": "execute_result"
    }
   ],
   "source": [
    "model.cumulative_percentage_of_variance_"
   ]
  },
  {
   "cell_type": "code",
   "execution_count": 51,
   "id": "cc03e058",
   "metadata": {},
   "outputs": [
    {
     "data": {
      "image/png": "[encoded data removed]",
      "text/plain": [
       "<Figure size 1000x600 with 1 Axes>"
      ]
     },
     "metadata": {},
     "output_type": "display_data"
    }
   ],
   "source": [
    "import matplotlib.pyplot as plt\n",
    "\n",
    "# Scatter plot de las observaciones (individuos)\n",
    "plt.figure(figsize=(10, 6))\n",
    "plt.scatter(df_famd[0], df_famd[4], alpha=0.6, edgecolor='k')\n",
    "plt.xlabel('Componente 1')\n",
    "plt.ylabel('Componente 4')\n",
    "plt.title('Individuos en el plano FAMD (Componente 1 vs Componente 2)')\n",
    "plt.grid(True)\n",
    "plt.show()\n"
   ]
  },
  {
   "cell_type": "code",
   "execution_count": 53,
   "id": "e00c4ca7",
   "metadata": {},
   "outputs": [],
   "source": [
    "df_famd.to_csv(path + 'FAMD_municipios.csv', sep = ';')"
   ]
  }
 ],
 "metadata": {
  "kernelspec": {
   "display_name": "Python 3",
   "language": "python",
   "name": "python3"
  },
  "language_info": {
   "codemirror_mode": {
    "name": "ipython",
    "version": 3
   },
   "file_extension": ".py",
   "mimetype": "text/x-python",
   "name": "python",
   "nbconvert_exporter": "python",
   "pygments_lexer": "ipython3",
   "version": "3.13.1"
  }
 },
 "nbformat": 4,
 "nbformat_minor": 5
}
